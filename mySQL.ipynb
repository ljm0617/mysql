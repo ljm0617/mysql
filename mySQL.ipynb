{
  "nbformat": 4,
  "nbformat_minor": 0,
  "metadata": {
    "colab": {
      "name": "mySQL.ipynb",
      "provenance": [],
      "authorship_tag": "ABX9TyNXeIAMpvSRHrQ63yS12oXE",
      "include_colab_link": true
    },
    "kernelspec": {
      "name": "python3",
      "display_name": "Python 3"
    },
    "language_info": {
      "name": "python"
    }
  },
  "cells": [
    {
      "cell_type": "markdown",
      "metadata": {
        "id": "view-in-github",
        "colab_type": "text"
      },
      "source": [
        "<a href=\"https://colab.research.google.com/github/ljm0617/mysql/blob/main/mySQL.ipynb\" target=\"_parent\"><img src=\"https://colab.research.google.com/assets/colab-badge.svg\" alt=\"Open In Colab\"/></a>"
      ]
    },
    {
      "cell_type": "code",
      "metadata": {
        "colab": {
          "base_uri": "https://localhost:8080/"
        },
        "id": "-2f6B2tKPv7j",
        "outputId": "210bf2b3-d7bf-476b-f1cb-042f01462050"
      },
      "source": [
        "#clone repository to collaboratory\n",
        "!git clone https://github.com/ljm0617/mysql.git\n"
      ],
      "execution_count": 5,
      "outputs": [
        {
          "output_type": "stream",
          "text": [
            "Cloning into 'mysql'...\n",
            "remote: Enumerating objects: 27, done.\u001b[K\n",
            "remote: Counting objects: 100% (27/27), done.\u001b[K\n",
            "remote: Compressing objects: 100% (27/27), done.\u001b[K\n",
            "remote: Total 27 (delta 0), reused 0 (delta 0), pack-reused 0\u001b[K\n",
            "Unpacking objects: 100% (27/27), done.\n"
          ],
          "name": "stdout"
        }
      ]
    },
    {
      "cell_type": "code",
      "metadata": {
        "id": "l-VKfsQJFPLr"
      },
      "source": [
        ""
      ],
      "execution_count": null,
      "outputs": []
    },
    {
      "cell_type": "code",
      "metadata": {
        "colab": {
          "base_uri": "https://localhost:8080/"
        },
        "id": "Lxzg7gMctDCU",
        "outputId": "7472e0a8-34f7-40fb-e0be-06dcba649ca1"
      },
      "source": [
        "import os, io, pandas as pd\n",
        "CURR_DIR = os.getcwd()\n",
        "path = CURR_DIR + \"/mysql/csv-files\"\n",
        "l_files = os.listdir(path) #list all the files inside the folder\n",
        "print(l_files)\n",
        "#create empty dataset\n",
        "allFnames = pd.DataFrame()\n",
        "allFnames[\"fname\"] = []\n",
        "allFnames[\"varnum\"] = []\n",
        "allFnames[\"field\"] = []\n",
        "allFnames[\"nonnullCNT\"] = []\n",
        "allFnames[\"datatype\"] = []\n",
        "\n",
        "\n",
        "for fname in l_files:\n",
        "  if fname[-3:] == \"csv\": #Take .csv file format only\n",
        "    df = pd.read_csv(path+\"/\"+fname)\n",
        "    buffer = io.StringIO()\n",
        "    df.info(buf=buffer)\n",
        "    s = buffer.getvalue() #string\n",
        "\n",
        "    for lines in s.splitlines()[5:-2]:\n",
        "      tempDict = {}\n",
        "      tempDict[\"fname\"] = fname\n",
        "      tempDict[\"varnum\"] = lines.split()[0]\n",
        "      tempDict[\"field\"] = lines.split()[1]\n",
        "      tempDict[\"nonnullCNT\"] = lines.split()[2]\n",
        "      tempDict[\"datatype\"] = lines.split()[4]\n",
        "\n",
        "      allFnames = allFnames.append(tempDict, ignore_index=True)\n",
        "\n",
        "print(allFnames.tail())\n",
        "print(allFnames.head())\n",
        "print(allFnames.info())\n",
        "print(allFnames.describe())\n",
        "\n",
        "allFnames.to_csv(CURR_DIR + \"/mysql/allFnames.csv\",index=False)\n",
        "\n"
      ],
      "execution_count": 144,
      "outputs": [
        {
          "output_type": "stream",
          "text": [
            "['Appearances.csv', 'AllstarFull.csv', 'AwardsManagers.csv', 'HomeGames.csv', 'Schools.csv', 'PitchingPost.csv', 'People.csv', 'AwardsPlayers.csv', 'TeamsFranchises.csv', 'BattingPost.csv', 'Fielding.csv', 'SeriesPost.csv', 'HallOfFame.csv', 'Pitching.csv', 'FieldingOF.csv', 'FieldingPost.csv', 'Batting.csv', 'Teams.csv', '.ipynb_checkpoints', 'readme2014.txt', 'Managers.csv', 'CollegePlaying.csv', 'Parks.csv', 'Salaries.csv']\n",
            "            fname varnum     field nonnullCNT datatype\n",
            "313  Salaries.csv      0    yearID      26428    int64\n",
            "314  Salaries.csv      1    teamID      26428   object\n",
            "315  Salaries.csv      2      lgID      26428   object\n",
            "316  Salaries.csv      3  playerID      26428   object\n",
            "317  Salaries.csv      4    salary      26428    int64\n",
            "             fname varnum     field nonnullCNT datatype\n",
            "0  Appearances.csv      0    yearID     105789    int64\n",
            "1  Appearances.csv      1    teamID     105789   object\n",
            "2  Appearances.csv      2      lgID     105052   object\n",
            "3  Appearances.csv      3  playerID     105789   object\n",
            "4  Appearances.csv      4     G_all     105789    int64\n",
            "<class 'pandas.core.frame.DataFrame'>\n",
            "RangeIndex: 318 entries, 0 to 317\n",
            "Data columns (total 5 columns):\n",
            " #   Column      Non-Null Count  Dtype \n",
            "---  ------      --------------  ----- \n",
            " 0   fname       318 non-null    object\n",
            " 1   varnum      318 non-null    object\n",
            " 2   field       318 non-null    object\n",
            " 3   nonnullCNT  318 non-null    object\n",
            " 4   datatype    318 non-null    object\n",
            "dtypes: object(5)\n",
            "memory usage: 12.5+ KB\n",
            "None\n",
            "            fname varnum   field nonnullCNT datatype\n",
            "count         318    318     318        318      318\n",
            "unique         22     48     153        111        3\n",
            "top     Teams.csv      0  yearID       2895    int64\n",
            "freq           48     22      17         33      134\n"
          ],
          "name": "stdout"
        }
      ]
    },
    {
      "cell_type": "code",
      "metadata": {
        "colab": {
          "base_uri": "https://localhost:8080/"
        },
        "id": "hUa8uWgxCpdb",
        "outputId": "caed9a6a-c957-4021-e190-95a900fdf5fe"
      },
      "source": [
        ""
      ],
      "execution_count": 154,
      "outputs": [
        {
          "output_type": "stream",
          "text": [
            "fatal: not a git repository (or any of the parent directories): .git\n"
          ],
          "name": "stdout"
        }
      ]
    },
    {
      "cell_type": "code",
      "metadata": {
        "colab": {
          "base_uri": "https://localhost:8080/"
        },
        "id": "T_JLIHu9clLu",
        "outputId": "936e6e7b-5389-4fce-ac43-6824f7c3e166"
      },
      "source": [
        "df = pd.read_csv(\"/content/mysql/csv-files/Appearances.csv\")\n",
        "\n",
        "allFnames = pd.DataFrame()\n",
        "allFnames[\"fname\"] = []\n",
        "allFnames[\"varnum\"] = []\n",
        "allFnames[\"field\"] = []\n",
        "allFnames[\"nonnullCNT\"] = []\n",
        "allFnames[\"datatype\"] = []\n",
        "\n",
        "print(allFnames.info)\n",
        "\n",
        "import io\n",
        "buffer = io.StringIO()\n",
        "df.info(buf=buffer)\n",
        "s = buffer.getvalue()\n",
        "\n",
        "for lines in s.splitlines()[5:-2]:\n",
        "  tempDict = {}\n",
        "  tempDict[\"fname\"] = \"Appearances.csv\"\n",
        "  tempDict[\"varnum\"] = lines.split()[0]\n",
        "  tempDict[\"field\"] = lines.split()[1]\n",
        "  tempDict[\"nonnullCNT\"] = lines.split()[2]\n",
        "  tempDict[\"datatype\"] = lines.split()[3]\n",
        "  #print(tempDict)\n",
        "  allFnames = allFnames.append(tempDict, ignore_index=True)\n",
        "\n",
        "print(allFnames)\n",
        "\n",
        "\n"
      ],
      "execution_count": 128,
      "outputs": [
        {
          "output_type": "stream",
          "text": [
            "<bound method DataFrame.info of Empty DataFrame\n",
            "Columns: [fname, varnum, field, nonnullCNT, datatype]\n",
            "Index: []>\n",
            "              fname varnum      field nonnullCNT  datatype\n",
            "0   Appearances.csv      0     yearID     105789  non-null\n",
            "1   Appearances.csv      1     teamID     105789  non-null\n",
            "2   Appearances.csv      2       lgID     105052  non-null\n",
            "3   Appearances.csv      3   playerID     105789  non-null\n",
            "4   Appearances.csv      4      G_all     105789  non-null\n",
            "5   Appearances.csv      5         GS      96020  non-null\n",
            "6   Appearances.csv      6  G_batting     105789  non-null\n",
            "7   Appearances.csv      7  G_defense      98091  non-null\n",
            "8   Appearances.csv      8        G_p     105789  non-null\n",
            "9   Appearances.csv      9        G_c     105789  non-null\n",
            "10  Appearances.csv     10       G_1b     105789  non-null\n",
            "11  Appearances.csv     11       G_2b     105789  non-null\n",
            "12  Appearances.csv     12       G_3b     105789  non-null\n",
            "13  Appearances.csv     13       G_ss     105789  non-null\n",
            "14  Appearances.csv     14       G_lf     105789  non-null\n",
            "15  Appearances.csv     15       G_cf     105789  non-null\n",
            "16  Appearances.csv     16       G_rf     105789  non-null\n",
            "17  Appearances.csv     17       G_of     105789  non-null\n",
            "18  Appearances.csv     18       G_dh     103718  non-null\n",
            "19  Appearances.csv     19       G_ph      96020  non-null\n",
            "20  Appearances.csv     20       G_pr      96020  non-null\n",
            "<class 'pandas.core.frame.DataFrame'>\n",
            "RangeIndex: 21 entries, 0 to 20\n",
            "Data columns (total 5 columns):\n",
            " #   Column      Non-Null Count  Dtype \n",
            "---  ------      --------------  ----- \n",
            " 0   fname       21 non-null     object\n",
            " 1   varnum      21 non-null     object\n",
            " 2   field       21 non-null     object\n",
            " 3   nonnullCNT  21 non-null     object\n",
            " 4   datatype    21 non-null     object\n",
            "dtypes: object(5)\n",
            "memory usage: 968.0+ bytes\n",
            "None\n"
          ],
          "name": "stdout"
        }
      ]
    }
  ]
}